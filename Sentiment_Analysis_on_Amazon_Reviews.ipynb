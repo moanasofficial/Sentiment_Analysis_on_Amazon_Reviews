{
 "cells": [
  {
   "cell_type": "markdown",
   "id": "01c61cbf",
   "metadata": {},
   "source": [
    "### Sentimental Analysis of Amazon Customer Reviews.\n"
   ]
  },
  {
   "cell_type": "markdown",
   "id": "7f329146",
   "metadata": {},
   "source": [
    "# Data Scraping from Amazon\n",
    "### Here we are scraping the reviews from amazon to perform sentiment analysis on them\n"
   ]
  },
  {
   "cell_type": "code",
   "execution_count": 1,
   "id": "0cadfe31",
   "metadata": {},
   "outputs": [],
   "source": [
    "# use this to install selenium\n",
    "#pip install selenium"
   ]
  },
  {
   "cell_type": "code",
   "execution_count": 2,
   "id": "b76e2861",
   "metadata": {},
   "outputs": [],
   "source": [
    "from selenium.webdriver import Chrome\n",
    "from selenium.webdriver.chrome.service import Service\n",
    "from selenium.webdriver.chrome.options import Options\n",
    "from selenium.webdriver.common.by import By\n",
    "from selenium.webdriver.support.ui import WebDriverWait\n",
    "from selenium.webdriver.common.keys import Keys\n",
    "from selenium.webdriver.support import expected_conditions as EC\n",
    "from sklearn.model_selection import train_test_split\n",
    "from sklearn.feature_extraction.text import CountVectorizer\n",
    "from sklearn.feature_extraction.text import TfidfVectorizer\n",
    "from sklearn.naive_bayes import GaussianNB\n",
    "from sklearn.svm import SVC\n",
    "from sklearn.metrics import precision_recall_fscore_support\n",
    "from sklearn.metrics import cohen_kappa_score\n",
    "import gensim\n",
    "import seaborn as sns\n",
    "from gensim.models import Word2Vec\n",
    "from gensim.test.utils import datapath\n",
    "import spacy\n",
    "import pandas as pd\n",
    "import numpy as np\n",
    "import time\n",
    "import os\n",
    "import re"
   ]
  },
  {
   "cell_type": "code",
   "execution_count": null,
   "id": "635a0c86",
   "metadata": {},
   "outputs": [],
   "source": [
    "chrome_drive_exe_path = '' # Enter path for your chromedriver.exe\n",
    "s = Service(chrome_drive_exe_path)\n",
    "myoptions = Options()\n",
    "driver = Chrome(service=s, options=myoptions) \n",
    "driver.maximize_window()\n",
    "amazon_cod_mwf_two = 'https://www.amazon.com/Call-Duty-Modern-Warfare-Playstation-3/product-reviews/B00269QLI8/ref=cm_cr_getr_d_paging_btm_prev_1?ie=UTF8&reviewerType=all_reviews&pageNumber=1'\n",
    "driver.get(amazon_cod_mwf_two)   \n",
    "driver.implicitly_wait(10)"
   ]
  },
  {
   "cell_type": "code",
   "execution_count": 11,
   "id": "1e20b91d",
   "metadata": {},
   "outputs": [],
   "source": [
    "review_list = []\n",
    "username_list = []\n",
    "ratting = []\n",
    "def scrap_reviews():\n",
    "    reviews_data = driver.find_elements(By.ID,'cm_cr-review_list')\n",
    "    review_data = reviews_data[0]\n",
    "    reviews = review_data.find_elements(By.CLASS_NAME,'review-text')\n",
    "    usernames = review_data.find_elements(By.CLASS_NAME,'a-profile-name')\n",
    "    stars = review_data.find_elements(By.CLASS_NAME,'a-icon-alt')\n",
    "    for review, username, star in zip(reviews, usernames, stars):\n",
    "        review_list.append(review.text)\n",
    "        username_list.append(username.text)\n",
    "        ratting.append(star.get_property(\"innerHTML\")[0])"
   ]
  },
  {
   "cell_type": "code",
   "execution_count": 12,
   "id": "eaa74ade",
   "metadata": {},
   "outputs": [
    {
     "name": "stdout",
     "output_type": "stream",
     "text": [
      "Translate button not found\n",
      "click done \n",
      "\n",
      "Countinue\n",
      "Translate button not found\n",
      "click done \n",
      "\n",
      "Countinue\n",
      "Translate button not found\n",
      "click done \n",
      "\n",
      "Countinue\n",
      "Translate button not found\n",
      "click done \n",
      "\n",
      "Countinue\n",
      "Translate button not found\n",
      "click done \n",
      "\n",
      "Countinue\n",
      "Translate button not found\n",
      "click done \n",
      "\n",
      "Countinue\n",
      "Translate button not found\n",
      "click done \n",
      "\n",
      "Countinue\n",
      "Translate button not found\n",
      "click done \n",
      "\n",
      "Countinue\n",
      "Translate button not found\n",
      "click done \n",
      "\n",
      "Countinue\n",
      "click done \n",
      "\n",
      "Countinue\n",
      "Translate button not found\n",
      "click done \n",
      "\n",
      "Countinue\n",
      "Translate button not found\n",
      "click done \n",
      "\n",
      "Countinue\n",
      "Translate button not found\n",
      "click done \n",
      "\n",
      "Countinue\n",
      "Translate button not found\n",
      "click done \n",
      "\n",
      "Countinue\n",
      "Translate button not found\n",
      "click done \n",
      "\n",
      "Countinue\n",
      "Translate button not found\n",
      "click done \n",
      "\n",
      "Successfully, reached on the last page\n"
     ]
    }
   ],
   "source": [
    "while(True):  \n",
    "        WebDriverWait(driver, 20).until(EC.presence_of_element_located((By.CLASS_NAME, 'a-last'))) \n",
    "        try:    \n",
    "            try:\n",
    "                driver.find_element(By.XPATH,\"//a[@data-hook='cr-translate-these-reviews-link']\").click()\n",
    "            except:\n",
    "                print('Translate button not found')\n",
    "            scrap_reviews()\n",
    "            time.sleep(2)\n",
    "            driver.find_element(By.CLASS_NAME, 'a-last').click()\n",
    "            time.sleep(2)\n",
    "            print(\"click done \\n\")\n",
    "            try:\n",
    "                driver.find_element(By.CLASS_NAME, 'a-disabled')\n",
    "                break\n",
    "            except:\n",
    "                print(\"Countinue\")\n",
    "        except:\n",
    "            print('Something is wrong')\n",
    "            break\n",
    "\n",
    "print(\"Successfully, reached on the last page\")"
   ]
  },
  {
   "cell_type": "code",
   "execution_count": 13,
   "id": "a17a20a6",
   "metadata": {},
   "outputs": [
    {
     "data": {
      "text/plain": [
       "160"
      ]
     },
     "execution_count": 13,
     "metadata": {},
     "output_type": "execute_result"
    }
   ],
   "source": [
    "driver.quit()\n",
    "len(username_list)"
   ]
  },
  {
   "cell_type": "code",
   "execution_count": null,
   "id": "c2801ff5",
   "metadata": {},
   "outputs": [],
   "source": [
    "data = {'Username':username_list, 'Review': review_list, 'Ratting': ratting}\n",
    "df = pd.DataFrame(data, columns=['Username', 'Review', 'Ratting'])\n",
    "df"
   ]
  },
  {
   "cell_type": "markdown",
   "id": "3bdb7603",
   "metadata": {},
   "source": [
    "### Save the dataset "
   ]
  },
  {
   "cell_type": "code",
   "execution_count": 10,
   "id": "e3a845fe",
   "metadata": {},
   "outputs": [
    {
     "data": {
      "text/html": [
       "<div>\n",
       "<style scoped>\n",
       "    .dataframe tbody tr th:only-of-type {\n",
       "        vertical-align: middle;\n",
       "    }\n",
       "\n",
       "    .dataframe tbody tr th {\n",
       "        vertical-align: top;\n",
       "    }\n",
       "\n",
       "    .dataframe thead th {\n",
       "        text-align: right;\n",
       "    }\n",
       "</style>\n",
       "<table border=\"1\" class=\"dataframe\">\n",
       "  <thead>\n",
       "    <tr style=\"text-align: right;\">\n",
       "      <th></th>\n",
       "      <th>Username</th>\n",
       "      <th>Review</th>\n",
       "      <th>Ratting</th>\n",
       "      <th>1st Analysis</th>\n",
       "    </tr>\n",
       "  </thead>\n",
       "  <tbody>\n",
       "    <tr>\n",
       "      <th>0</th>\n",
       "      <td>David E. Johnson Jr.</td>\n",
       "      <td>Thank you very much</td>\n",
       "      <td>5</td>\n",
       "      <td>1</td>\n",
       "    </tr>\n",
       "    <tr>\n",
       "      <th>1</th>\n",
       "      <td>Christian J. Gaston</td>\n",
       "      <td>Great quality!</td>\n",
       "      <td>5</td>\n",
       "      <td>1</td>\n",
       "    </tr>\n",
       "    <tr>\n",
       "      <th>2</th>\n",
       "      <td>Candiria drummer</td>\n",
       "      <td>Game arrived quick and like new condition than...</td>\n",
       "      <td>5</td>\n",
       "      <td>1</td>\n",
       "    </tr>\n",
       "    <tr>\n",
       "      <th>3</th>\n",
       "      <td>Melissa Baldwin</td>\n",
       "      <td>Great!</td>\n",
       "      <td>5</td>\n",
       "      <td>1</td>\n",
       "    </tr>\n",
       "    <tr>\n",
       "      <th>4</th>\n",
       "      <td>AmazonBuyerAnon</td>\n",
       "      <td>If you own an Xbox 360 or later this is an abs...</td>\n",
       "      <td>5</td>\n",
       "      <td>1</td>\n",
       "    </tr>\n",
       "  </tbody>\n",
       "</table>\n",
       "</div>"
      ],
      "text/plain": [
       "               Username                                             Review  \\\n",
       "0  David E. Johnson Jr.                                Thank you very much   \n",
       "1   Christian J. Gaston                                     Great quality!   \n",
       "2      Candiria drummer  Game arrived quick and like new condition than...   \n",
       "3       Melissa Baldwin                                             Great!   \n",
       "4       AmazonBuyerAnon  If you own an Xbox 360 or later this is an abs...   \n",
       "\n",
       "   Ratting  1st Analysis  \n",
       "0        5             1  \n",
       "1        5             1  \n",
       "2        5             1  \n",
       "3        5             1  \n",
       "4        5             1  "
      ]
     },
     "execution_count": 10,
     "metadata": {},
     "output_type": "execute_result"
    }
   ],
   "source": [
    "#Enter path where you want to save you csv file.\n",
    "#df.to_csv (r'C:\\Users\\export_dataframe.csv', index = False, header=True)\n",
    "df = pd.read_csv(r'C:\\Users\\export_dataframe.csv')\n",
    "df.head(5)\n"
   ]
  },
  {
   "cell_type": "code",
   "execution_count": null,
   "id": "61fccbbb",
   "metadata": {},
   "outputs": [],
   "source": []
  },
  {
   "cell_type": "markdown",
   "id": "9e5ce68a",
   "metadata": {},
   "source": [
    "### Corpus Generation"
   ]
  },
  {
   "cell_type": "code",
   "execution_count": 11,
   "id": "ce128d30",
   "metadata": {},
   "outputs": [
    {
     "data": {
      "text/plain": [
       "0       True\n",
       "1       True\n",
       "2       True\n",
       "3       True\n",
       "4       True\n",
       "       ...  \n",
       "155     True\n",
       "156     True\n",
       "157    False\n",
       "158    False\n",
       "159    False\n",
       "Name: Ratting, Length: 160, dtype: bool"
      ]
     },
     "execution_count": 11,
     "metadata": {},
     "output_type": "execute_result"
    }
   ],
   "source": [
    "mask = (df['Ratting'] > 3)\n",
    "mask"
   ]
  },
  {
   "cell_type": "code",
   "execution_count": 12,
   "id": "50b82306",
   "metadata": {},
   "outputs": [
    {
     "data": {
      "text/html": [
       "<div>\n",
       "<style scoped>\n",
       "    .dataframe tbody tr th:only-of-type {\n",
       "        vertical-align: middle;\n",
       "    }\n",
       "\n",
       "    .dataframe tbody tr th {\n",
       "        vertical-align: top;\n",
       "    }\n",
       "\n",
       "    .dataframe thead th {\n",
       "        text-align: right;\n",
       "    }\n",
       "</style>\n",
       "<table border=\"1\" class=\"dataframe\">\n",
       "  <thead>\n",
       "    <tr style=\"text-align: right;\">\n",
       "      <th></th>\n",
       "      <th>Username</th>\n",
       "      <th>Review</th>\n",
       "      <th>Ratting</th>\n",
       "      <th>1st Analysis</th>\n",
       "      <th>2nd Analysis</th>\n",
       "    </tr>\n",
       "  </thead>\n",
       "  <tbody>\n",
       "    <tr>\n",
       "      <th>0</th>\n",
       "      <td>David E. Johnson Jr.</td>\n",
       "      <td>Thank you very much</td>\n",
       "      <td>5</td>\n",
       "      <td>1</td>\n",
       "      <td>1</td>\n",
       "    </tr>\n",
       "    <tr>\n",
       "      <th>1</th>\n",
       "      <td>Christian J. Gaston</td>\n",
       "      <td>Great quality!</td>\n",
       "      <td>5</td>\n",
       "      <td>1</td>\n",
       "      <td>1</td>\n",
       "    </tr>\n",
       "    <tr>\n",
       "      <th>2</th>\n",
       "      <td>Candiria drummer</td>\n",
       "      <td>Game arrived quick and like new condition than...</td>\n",
       "      <td>5</td>\n",
       "      <td>1</td>\n",
       "      <td>1</td>\n",
       "    </tr>\n",
       "    <tr>\n",
       "      <th>3</th>\n",
       "      <td>Melissa Baldwin</td>\n",
       "      <td>Great!</td>\n",
       "      <td>5</td>\n",
       "      <td>1</td>\n",
       "      <td>1</td>\n",
       "    </tr>\n",
       "    <tr>\n",
       "      <th>4</th>\n",
       "      <td>AmazonBuyerAnon</td>\n",
       "      <td>If you own an Xbox 360 or later this is an abs...</td>\n",
       "      <td>5</td>\n",
       "      <td>1</td>\n",
       "      <td>1</td>\n",
       "    </tr>\n",
       "    <tr>\n",
       "      <th>...</th>\n",
       "      <td>...</td>\n",
       "      <td>...</td>\n",
       "      <td>...</td>\n",
       "      <td>...</td>\n",
       "      <td>...</td>\n",
       "    </tr>\n",
       "    <tr>\n",
       "      <th>155</th>\n",
       "      <td>kei</td>\n",
       "      <td>After all, if it's not an English voice, you w...</td>\n",
       "      <td>5</td>\n",
       "      <td>1</td>\n",
       "      <td>1</td>\n",
       "    </tr>\n",
       "    <tr>\n",
       "      <th>156</th>\n",
       "      <td>Vlidge</td>\n",
       "      <td>It surpasses the previous game in every way!! ...</td>\n",
       "      <td>5</td>\n",
       "      <td>1</td>\n",
       "      <td>1</td>\n",
       "    </tr>\n",
       "    <tr>\n",
       "      <th>157</th>\n",
       "      <td>yuu</td>\n",
       "      <td>Compared to the previous game, there is no phy...</td>\n",
       "      <td>2</td>\n",
       "      <td>0</td>\n",
       "      <td>0</td>\n",
       "    </tr>\n",
       "    <tr>\n",
       "      <th>158</th>\n",
       "      <td>むか</td>\n",
       "      <td>COD4 is more fun online.\\nOr rather online is ...</td>\n",
       "      <td>1</td>\n",
       "      <td>0</td>\n",
       "      <td>0</td>\n",
       "    </tr>\n",
       "    <tr>\n",
       "      <th>159</th>\n",
       "      <td>Vivek Dyundi</td>\n",
       "      <td>The CD provided dint worked. The Dealer should...</td>\n",
       "      <td>1</td>\n",
       "      <td>0</td>\n",
       "      <td>0</td>\n",
       "    </tr>\n",
       "  </tbody>\n",
       "</table>\n",
       "<p>160 rows × 5 columns</p>\n",
       "</div>"
      ],
      "text/plain": [
       "                 Username                                             Review  \\\n",
       "0    David E. Johnson Jr.                                Thank you very much   \n",
       "1     Christian J. Gaston                                     Great quality!   \n",
       "2        Candiria drummer  Game arrived quick and like new condition than...   \n",
       "3         Melissa Baldwin                                             Great!   \n",
       "4         AmazonBuyerAnon  If you own an Xbox 360 or later this is an abs...   \n",
       "..                    ...                                                ...   \n",
       "155                   kei  After all, if it's not an English voice, you w...   \n",
       "156                Vlidge  It surpasses the previous game in every way!! ...   \n",
       "157                   yuu  Compared to the previous game, there is no phy...   \n",
       "158                    むか  COD4 is more fun online.\\nOr rather online is ...   \n",
       "159          Vivek Dyundi  The CD provided dint worked. The Dealer should...   \n",
       "\n",
       "     Ratting  1st Analysis  2nd Analysis  \n",
       "0          5             1             1  \n",
       "1          5             1             1  \n",
       "2          5             1             1  \n",
       "3          5             1             1  \n",
       "4          5             1             1  \n",
       "..       ...           ...           ...  \n",
       "155        5             1             1  \n",
       "156        5             1             1  \n",
       "157        2             0             0  \n",
       "158        1             0             0  \n",
       "159        1             0             0  \n",
       "\n",
       "[160 rows x 5 columns]"
      ]
     },
     "execution_count": 12,
     "metadata": {},
     "output_type": "execute_result"
    }
   ],
   "source": [
    "df['2nd Analysis'] = [0 if i == False else 1 for i in mask]\n",
    "df"
   ]
  },
  {
   "cell_type": "code",
   "execution_count": 13,
   "id": "c3350253",
   "metadata": {},
   "outputs": [
    {
     "data": {
      "text/html": [
       "<div>\n",
       "<style scoped>\n",
       "    .dataframe tbody tr th:only-of-type {\n",
       "        vertical-align: middle;\n",
       "    }\n",
       "\n",
       "    .dataframe tbody tr th {\n",
       "        vertical-align: top;\n",
       "    }\n",
       "\n",
       "    .dataframe thead th {\n",
       "        text-align: right;\n",
       "    }\n",
       "</style>\n",
       "<table border=\"1\" class=\"dataframe\">\n",
       "  <thead>\n",
       "    <tr style=\"text-align: right;\">\n",
       "      <th></th>\n",
       "      <th>Username</th>\n",
       "      <th>Review</th>\n",
       "      <th>Ratting</th>\n",
       "      <th>1st Analysis</th>\n",
       "      <th>2nd Analysis</th>\n",
       "    </tr>\n",
       "  </thead>\n",
       "  <tbody>\n",
       "    <tr>\n",
       "      <th>0</th>\n",
       "      <td>David E. Johnson Jr.</td>\n",
       "      <td>Thank you very much</td>\n",
       "      <td>5</td>\n",
       "      <td>1</td>\n",
       "      <td>1</td>\n",
       "    </tr>\n",
       "    <tr>\n",
       "      <th>1</th>\n",
       "      <td>Christian J. Gaston</td>\n",
       "      <td>Great quality!</td>\n",
       "      <td>5</td>\n",
       "      <td>1</td>\n",
       "      <td>1</td>\n",
       "    </tr>\n",
       "    <tr>\n",
       "      <th>2</th>\n",
       "      <td>Candiria drummer</td>\n",
       "      <td>Game arrived quick and like new condition than...</td>\n",
       "      <td>5</td>\n",
       "      <td>1</td>\n",
       "      <td>1</td>\n",
       "    </tr>\n",
       "    <tr>\n",
       "      <th>3</th>\n",
       "      <td>Melissa Baldwin</td>\n",
       "      <td>Great!</td>\n",
       "      <td>5</td>\n",
       "      <td>1</td>\n",
       "      <td>1</td>\n",
       "    </tr>\n",
       "    <tr>\n",
       "      <th>4</th>\n",
       "      <td>AmazonBuyerAnon</td>\n",
       "      <td>If you own an Xbox 360 or later this is an abs...</td>\n",
       "      <td>5</td>\n",
       "      <td>1</td>\n",
       "      <td>1</td>\n",
       "    </tr>\n",
       "    <tr>\n",
       "      <th>...</th>\n",
       "      <td>...</td>\n",
       "      <td>...</td>\n",
       "      <td>...</td>\n",
       "      <td>...</td>\n",
       "      <td>...</td>\n",
       "    </tr>\n",
       "    <tr>\n",
       "      <th>152</th>\n",
       "      <td>父</td>\n",
       "      <td>I feel like it was interesting.\\nIs it said th...</td>\n",
       "      <td>2</td>\n",
       "      <td>0</td>\n",
       "      <td>0</td>\n",
       "    </tr>\n",
       "    <tr>\n",
       "      <th>154</th>\n",
       "      <td>ローチ</td>\n",
       "      <td>I really didn't like dubbing, so I bought the ...</td>\n",
       "      <td>5</td>\n",
       "      <td>1</td>\n",
       "      <td>1</td>\n",
       "    </tr>\n",
       "    <tr>\n",
       "      <th>156</th>\n",
       "      <td>Vlidge</td>\n",
       "      <td>It surpasses the previous game in every way!! ...</td>\n",
       "      <td>5</td>\n",
       "      <td>1</td>\n",
       "      <td>1</td>\n",
       "    </tr>\n",
       "    <tr>\n",
       "      <th>158</th>\n",
       "      <td>むか</td>\n",
       "      <td>COD4 is more fun online.\\nOr rather online is ...</td>\n",
       "      <td>1</td>\n",
       "      <td>0</td>\n",
       "      <td>0</td>\n",
       "    </tr>\n",
       "    <tr>\n",
       "      <th>159</th>\n",
       "      <td>Vivek Dyundi</td>\n",
       "      <td>The CD provided dint worked. The Dealer should...</td>\n",
       "      <td>1</td>\n",
       "      <td>0</td>\n",
       "      <td>0</td>\n",
       "    </tr>\n",
       "  </tbody>\n",
       "</table>\n",
       "<p>143 rows × 5 columns</p>\n",
       "</div>"
      ],
      "text/plain": [
       "                 Username                                             Review  \\\n",
       "0    David E. Johnson Jr.                                Thank you very much   \n",
       "1     Christian J. Gaston                                     Great quality!   \n",
       "2        Candiria drummer  Game arrived quick and like new condition than...   \n",
       "3         Melissa Baldwin                                             Great!   \n",
       "4         AmazonBuyerAnon  If you own an Xbox 360 or later this is an abs...   \n",
       "..                    ...                                                ...   \n",
       "152                     父  I feel like it was interesting.\\nIs it said th...   \n",
       "154                   ローチ  I really didn't like dubbing, so I bought the ...   \n",
       "156                Vlidge  It surpasses the previous game in every way!! ...   \n",
       "158                    むか  COD4 is more fun online.\\nOr rather online is ...   \n",
       "159          Vivek Dyundi  The CD provided dint worked. The Dealer should...   \n",
       "\n",
       "     Ratting  1st Analysis  2nd Analysis  \n",
       "0          5             1             1  \n",
       "1          5             1             1  \n",
       "2          5             1             1  \n",
       "3          5             1             1  \n",
       "4          5             1             1  \n",
       "..       ...           ...           ...  \n",
       "152        2             0             0  \n",
       "154        5             1             1  \n",
       "156        5             1             1  \n",
       "158        1             0             0  \n",
       "159        1             0             0  \n",
       "\n",
       "[143 rows x 5 columns]"
      ]
     },
     "execution_count": 13,
     "metadata": {},
     "output_type": "execute_result"
    }
   ],
   "source": [
    "masks = [True if len(i) < 385 else False for i in df['Review']]\n",
    "df = df[masks]\n",
    "df"
   ]
  },
  {
   "cell_type": "code",
   "execution_count": 14,
   "id": "686b11df",
   "metadata": {},
   "outputs": [
    {
     "data": {
      "text/plain": [
       "0      False\n",
       "1      False\n",
       "2      False\n",
       "3      False\n",
       "4      False\n",
       "       ...  \n",
       "152    False\n",
       "154    False\n",
       "156    False\n",
       "158    False\n",
       "159    False\n",
       "Length: 143, dtype: bool"
      ]
     },
     "execution_count": 14,
     "metadata": {},
     "output_type": "execute_result"
    }
   ],
   "source": [
    "mask = (df['1st Analysis'] != df['2nd Analysis'])\n",
    "mask"
   ]
  },
  {
   "cell_type": "code",
   "execution_count": 15,
   "id": "839a55f1",
   "metadata": {},
   "outputs": [
    {
     "name": "stderr",
     "output_type": "stream",
     "text": [
      "C:\\Users\\PAVILI~1\\AppData\\Local\\Temp/ipykernel_9280/3235348247.py:1: SettingWithCopyWarning: \n",
      "A value is trying to be set on a copy of a slice from a DataFrame.\n",
      "Try using .loc[row_indexer,col_indexer] = value instead\n",
      "\n",
      "See the caveats in the documentation: https://pandas.pydata.org/pandas-docs/stable/user_guide/indexing.html#returning-a-view-versus-a-copy\n",
      "  df['Conflict'] = [0 if i == False else 1 for i in mask]\n"
     ]
    }
   ],
   "source": [
    "df['Conflict'] = [0 if i == False else 1 for i in mask]"
   ]
  },
  {
   "cell_type": "code",
   "execution_count": 16,
   "id": "f9cc39d8",
   "metadata": {},
   "outputs": [
    {
     "name": "stdout",
     "output_type": "stream",
     "text": [
      "count_yes  14 \n",
      "count_no  129\n"
     ]
    }
   ],
   "source": [
    "count_yes = 0\n",
    "count_no = 0\n",
    "for review in df.Review:\n",
    "    if 'broken'in review:\n",
    "        count_yes += 1\n",
    "    elif \"didn't work\" in review:\n",
    "        count_yes += 1\n",
    "    elif 'unreadable' in review:\n",
    "        count_yes += 1\n",
    "    elif 'fake' in review:\n",
    "        count_yes += 1\n",
    "    elif 'return' in review:\n",
    "        count_yes += 1\n",
    "    elif \"didn't like\" in review:\n",
    "        count_yes += 1\n",
    "    else:\n",
    "        count_no +=1\n",
    "print('count_yes ',count_yes,'\\ncount_no ',count_no)        \n"
   ]
  },
  {
   "cell_type": "code",
   "execution_count": 17,
   "id": "6a493098",
   "metadata": {},
   "outputs": [
    {
     "data": {
      "text/html": [
       "<div>\n",
       "<style scoped>\n",
       "    .dataframe tbody tr th:only-of-type {\n",
       "        vertical-align: middle;\n",
       "    }\n",
       "\n",
       "    .dataframe tbody tr th {\n",
       "        vertical-align: top;\n",
       "    }\n",
       "\n",
       "    .dataframe thead th {\n",
       "        text-align: right;\n",
       "    }\n",
       "</style>\n",
       "<table border=\"1\" class=\"dataframe\">\n",
       "  <thead>\n",
       "    <tr style=\"text-align: right;\">\n",
       "      <th></th>\n",
       "      <th>Username</th>\n",
       "      <th>Review</th>\n",
       "      <th>Ratting</th>\n",
       "      <th>1st Analysis</th>\n",
       "      <th>2nd Analysis</th>\n",
       "      <th>Conflict</th>\n",
       "    </tr>\n",
       "  </thead>\n",
       "  <tbody>\n",
       "    <tr>\n",
       "      <th>94</th>\n",
       "      <td>Amazon Customer</td>\n",
       "      <td>It came earlier than was scheduled! Great (Y)</td>\n",
       "      <td>3</td>\n",
       "      <td>1</td>\n",
       "      <td>0</td>\n",
       "      <td>1</td>\n",
       "    </tr>\n",
       "  </tbody>\n",
       "</table>\n",
       "</div>"
      ],
      "text/plain": [
       "           Username                                         Review  Ratting  \\\n",
       "94  Amazon Customer  It came earlier than was scheduled! Great (Y)        3   \n",
       "\n",
       "    1st Analysis  2nd Analysis  Conflict  \n",
       "94             1             0         1  "
      ]
     },
     "execution_count": 17,
     "metadata": {},
     "output_type": "execute_result"
    }
   ],
   "source": [
    "df[df['1st Analysis'] != df['2nd Analysis']]"
   ]
  },
  {
   "cell_type": "code",
   "execution_count": 18,
   "id": "a1c85ed8",
   "metadata": {},
   "outputs": [
    {
     "name": "stderr",
     "output_type": "stream",
     "text": [
      "C:\\Users\\PAVILI~1\\AppData\\Local\\Temp/ipykernel_9280/3506062079.py:1: SettingWithCopyWarning: \n",
      "A value is trying to be set on a copy of a slice from a DataFrame.\n",
      "Try using .loc[row_indexer,col_indexer] = value instead\n",
      "\n",
      "See the caveats in the documentation: https://pandas.pydata.org/pandas-docs/stable/user_guide/indexing.html#returning-a-view-versus-a-copy\n",
      "  df['Conclusion'] = df['1st Analysis']\n"
     ]
    }
   ],
   "source": [
    "df['Conclusion'] = df['1st Analysis']"
   ]
  },
  {
   "cell_type": "code",
   "execution_count": 19,
   "id": "591ff105",
   "metadata": {},
   "outputs": [
    {
     "data": {
      "text/html": [
       "<div>\n",
       "<style scoped>\n",
       "    .dataframe tbody tr th:only-of-type {\n",
       "        vertical-align: middle;\n",
       "    }\n",
       "\n",
       "    .dataframe tbody tr th {\n",
       "        vertical-align: top;\n",
       "    }\n",
       "\n",
       "    .dataframe thead th {\n",
       "        text-align: right;\n",
       "    }\n",
       "</style>\n",
       "<table border=\"1\" class=\"dataframe\">\n",
       "  <thead>\n",
       "    <tr style=\"text-align: right;\">\n",
       "      <th></th>\n",
       "      <th>Username</th>\n",
       "      <th>Review</th>\n",
       "      <th>Ratting</th>\n",
       "      <th>1st Analysis</th>\n",
       "      <th>2nd Analysis</th>\n",
       "      <th>Conflict</th>\n",
       "      <th>Conclusion</th>\n",
       "    </tr>\n",
       "  </thead>\n",
       "  <tbody>\n",
       "    <tr>\n",
       "      <th>0</th>\n",
       "      <td>David E. Johnson Jr.</td>\n",
       "      <td>Thank you very much</td>\n",
       "      <td>5</td>\n",
       "      <td>1</td>\n",
       "      <td>1</td>\n",
       "      <td>0</td>\n",
       "      <td>1</td>\n",
       "    </tr>\n",
       "    <tr>\n",
       "      <th>1</th>\n",
       "      <td>Christian J. Gaston</td>\n",
       "      <td>Great quality!</td>\n",
       "      <td>5</td>\n",
       "      <td>1</td>\n",
       "      <td>1</td>\n",
       "      <td>0</td>\n",
       "      <td>1</td>\n",
       "    </tr>\n",
       "    <tr>\n",
       "      <th>2</th>\n",
       "      <td>Candiria drummer</td>\n",
       "      <td>Game arrived quick and like new condition than...</td>\n",
       "      <td>5</td>\n",
       "      <td>1</td>\n",
       "      <td>1</td>\n",
       "      <td>0</td>\n",
       "      <td>1</td>\n",
       "    </tr>\n",
       "    <tr>\n",
       "      <th>3</th>\n",
       "      <td>Melissa Baldwin</td>\n",
       "      <td>Great!</td>\n",
       "      <td>5</td>\n",
       "      <td>1</td>\n",
       "      <td>1</td>\n",
       "      <td>0</td>\n",
       "      <td>1</td>\n",
       "    </tr>\n",
       "    <tr>\n",
       "      <th>4</th>\n",
       "      <td>AmazonBuyerAnon</td>\n",
       "      <td>If you own an Xbox 360 or later this is an abs...</td>\n",
       "      <td>5</td>\n",
       "      <td>1</td>\n",
       "      <td>1</td>\n",
       "      <td>0</td>\n",
       "      <td>1</td>\n",
       "    </tr>\n",
       "    <tr>\n",
       "      <th>...</th>\n",
       "      <td>...</td>\n",
       "      <td>...</td>\n",
       "      <td>...</td>\n",
       "      <td>...</td>\n",
       "      <td>...</td>\n",
       "      <td>...</td>\n",
       "      <td>...</td>\n",
       "    </tr>\n",
       "    <tr>\n",
       "      <th>152</th>\n",
       "      <td>父</td>\n",
       "      <td>I feel like it was interesting.\\nIs it said th...</td>\n",
       "      <td>2</td>\n",
       "      <td>0</td>\n",
       "      <td>0</td>\n",
       "      <td>0</td>\n",
       "      <td>0</td>\n",
       "    </tr>\n",
       "    <tr>\n",
       "      <th>154</th>\n",
       "      <td>ローチ</td>\n",
       "      <td>I really didn't like dubbing, so I bought the ...</td>\n",
       "      <td>5</td>\n",
       "      <td>1</td>\n",
       "      <td>1</td>\n",
       "      <td>0</td>\n",
       "      <td>1</td>\n",
       "    </tr>\n",
       "    <tr>\n",
       "      <th>156</th>\n",
       "      <td>Vlidge</td>\n",
       "      <td>It surpasses the previous game in every way!! ...</td>\n",
       "      <td>5</td>\n",
       "      <td>1</td>\n",
       "      <td>1</td>\n",
       "      <td>0</td>\n",
       "      <td>1</td>\n",
       "    </tr>\n",
       "    <tr>\n",
       "      <th>158</th>\n",
       "      <td>むか</td>\n",
       "      <td>COD4 is more fun online.\\nOr rather online is ...</td>\n",
       "      <td>1</td>\n",
       "      <td>0</td>\n",
       "      <td>0</td>\n",
       "      <td>0</td>\n",
       "      <td>0</td>\n",
       "    </tr>\n",
       "    <tr>\n",
       "      <th>159</th>\n",
       "      <td>Vivek Dyundi</td>\n",
       "      <td>The CD provided dint worked. The Dealer should...</td>\n",
       "      <td>1</td>\n",
       "      <td>0</td>\n",
       "      <td>0</td>\n",
       "      <td>0</td>\n",
       "      <td>0</td>\n",
       "    </tr>\n",
       "  </tbody>\n",
       "</table>\n",
       "<p>143 rows × 7 columns</p>\n",
       "</div>"
      ],
      "text/plain": [
       "                 Username                                             Review  \\\n",
       "0    David E. Johnson Jr.                                Thank you very much   \n",
       "1     Christian J. Gaston                                     Great quality!   \n",
       "2        Candiria drummer  Game arrived quick and like new condition than...   \n",
       "3         Melissa Baldwin                                             Great!   \n",
       "4         AmazonBuyerAnon  If you own an Xbox 360 or later this is an abs...   \n",
       "..                    ...                                                ...   \n",
       "152                     父  I feel like it was interesting.\\nIs it said th...   \n",
       "154                   ローチ  I really didn't like dubbing, so I bought the ...   \n",
       "156                Vlidge  It surpasses the previous game in every way!! ...   \n",
       "158                    むか  COD4 is more fun online.\\nOr rather online is ...   \n",
       "159          Vivek Dyundi  The CD provided dint worked. The Dealer should...   \n",
       "\n",
       "     Ratting  1st Analysis  2nd Analysis  Conflict  Conclusion  \n",
       "0          5             1             1         0           1  \n",
       "1          5             1             1         0           1  \n",
       "2          5             1             1         0           1  \n",
       "3          5             1             1         0           1  \n",
       "4          5             1             1         0           1  \n",
       "..       ...           ...           ...       ...         ...  \n",
       "152        2             0             0         0           0  \n",
       "154        5             1             1         0           1  \n",
       "156        5             1             1         0           1  \n",
       "158        1             0             0         0           0  \n",
       "159        1             0             0         0           0  \n",
       "\n",
       "[143 rows x 7 columns]"
      ]
     },
     "execution_count": 19,
     "metadata": {},
     "output_type": "execute_result"
    }
   ],
   "source": [
    "df"
   ]
  },
  {
   "cell_type": "markdown",
   "id": "126aa104",
   "metadata": {},
   "source": [
    "### Calculating Kappa Score"
   ]
  },
  {
   "cell_type": "code",
   "execution_count": 20,
   "id": "a6ff9794",
   "metadata": {},
   "outputs": [
    {
     "data": {
      "text/plain": [
       "0.9791636310651318"
      ]
     },
     "execution_count": 20,
     "metadata": {},
     "output_type": "execute_result"
    }
   ],
   "source": [
    "cohen_kappa_score(df['1st Analysis'],df['2nd Analysis'])"
   ]
  },
  {
   "cell_type": "markdown",
   "id": "a02309de",
   "metadata": {},
   "source": [
    "###### ---------------------------------------------------------------------------------------------------------------------------------------------------------------------------------------------------\n"
   ]
  },
  {
   "cell_type": "markdown",
   "id": "e470b946",
   "metadata": {},
   "source": [
    "### Hate Speach Detection using Kaggle dataset\n"
   ]
  },
  {
   "cell_type": "code",
   "execution_count": 21,
   "id": "248a3b4f",
   "metadata": {},
   "outputs": [],
   "source": [
    "import neattext.functions as nfx"
   ]
  },
  {
   "cell_type": "code",
   "execution_count": null,
   "id": "f3a7e05e",
   "metadata": {},
   "outputs": [],
   "source": []
  },
  {
   "cell_type": "code",
   "execution_count": 22,
   "id": "34584cc5",
   "metadata": {},
   "outputs": [
    {
     "data": {
      "text/html": [
       "<div>\n",
       "<style scoped>\n",
       "    .dataframe tbody tr th:only-of-type {\n",
       "        vertical-align: middle;\n",
       "    }\n",
       "\n",
       "    .dataframe tbody tr th {\n",
       "        vertical-align: top;\n",
       "    }\n",
       "\n",
       "    .dataframe thead th {\n",
       "        text-align: right;\n",
       "    }\n",
       "</style>\n",
       "<table border=\"1\" class=\"dataframe\">\n",
       "  <thead>\n",
       "    <tr style=\"text-align: right;\">\n",
       "      <th></th>\n",
       "      <th>id</th>\n",
       "      <th>label</th>\n",
       "      <th>tweet</th>\n",
       "    </tr>\n",
       "  </thead>\n",
       "  <tbody>\n",
       "    <tr>\n",
       "      <th>0</th>\n",
       "      <td>1</td>\n",
       "      <td>0</td>\n",
       "      <td>@user when a father is dysfunctional and is s...</td>\n",
       "    </tr>\n",
       "    <tr>\n",
       "      <th>1</th>\n",
       "      <td>2</td>\n",
       "      <td>0</td>\n",
       "      <td>@user @user thanks for #lyft credit i can't us...</td>\n",
       "    </tr>\n",
       "    <tr>\n",
       "      <th>2</th>\n",
       "      <td>3</td>\n",
       "      <td>0</td>\n",
       "      <td>bihday your majesty</td>\n",
       "    </tr>\n",
       "    <tr>\n",
       "      <th>3</th>\n",
       "      <td>4</td>\n",
       "      <td>0</td>\n",
       "      <td>#model   i love u take with u all the time in ...</td>\n",
       "    </tr>\n",
       "    <tr>\n",
       "      <th>4</th>\n",
       "      <td>5</td>\n",
       "      <td>0</td>\n",
       "      <td>factsguide: society now    #motivation</td>\n",
       "    </tr>\n",
       "  </tbody>\n",
       "</table>\n",
       "</div>"
      ],
      "text/plain": [
       "   id  label                                              tweet\n",
       "0   1      0   @user when a father is dysfunctional and is s...\n",
       "1   2      0  @user @user thanks for #lyft credit i can't us...\n",
       "2   3      0                                bihday your majesty\n",
       "3   4      0  #model   i love u take with u all the time in ...\n",
       "4   5      0             factsguide: society now    #motivation"
      ]
     },
     "execution_count": 22,
     "metadata": {},
     "output_type": "execute_result"
    }
   ],
   "source": [
    "df = pd.read_csv(r'C:\\Users\\Pavilion14x360\\Dataset for hate speach Final Term\\data.csv')\n",
    "df.head(5)\n"
   ]
  },
  {
   "cell_type": "code",
   "execution_count": 23,
   "id": "58cb7cd9",
   "metadata": {},
   "outputs": [
    {
     "data": {
      "text/plain": [
       "(31962, 3)"
      ]
     },
     "execution_count": 23,
     "metadata": {},
     "output_type": "execute_result"
    }
   ],
   "source": [
    "df.shape"
   ]
  },
  {
   "cell_type": "code",
   "execution_count": 24,
   "id": "23e9b489",
   "metadata": {},
   "outputs": [
    {
     "data": {
      "text/plain": [
       "(29720, 3)"
      ]
     },
     "execution_count": 24,
     "metadata": {},
     "output_type": "execute_result"
    }
   ],
   "source": [
    "df[df['label'] == 0].shape"
   ]
  },
  {
   "cell_type": "code",
   "execution_count": 25,
   "id": "56c67791",
   "metadata": {},
   "outputs": [
    {
     "data": {
      "text/plain": [
       "(2242, 3)"
      ]
     },
     "execution_count": 25,
     "metadata": {},
     "output_type": "execute_result"
    }
   ],
   "source": [
    "df[df['label'] == 1].shape"
   ]
  },
  {
   "cell_type": "code",
   "execution_count": 26,
   "id": "f9436826",
   "metadata": {},
   "outputs": [],
   "source": [
    "df['Clean_Text'] = df['tweet'].apply(nfx.remove_userhandles)"
   ]
  },
  {
   "cell_type": "code",
   "execution_count": 27,
   "id": "f96027ac",
   "metadata": {},
   "outputs": [],
   "source": [
    "df['Clean_Text'] = df['Clean_Text'].apply(nfx.remove_stopwords)"
   ]
  },
  {
   "cell_type": "code",
   "execution_count": 28,
   "id": "6c40b108",
   "metadata": {},
   "outputs": [],
   "source": [
    "df['Clean_Text'] = df['Clean_Text'].apply(nfx.remove_emojis)"
   ]
  },
  {
   "cell_type": "code",
   "execution_count": null,
   "id": "0428436f",
   "metadata": {},
   "outputs": [],
   "source": []
  },
  {
   "cell_type": "code",
   "execution_count": 29,
   "id": "b0822ac7",
   "metadata": {},
   "outputs": [],
   "source": [
    "df.drop(\"tweet\", axis='columns',inplace=True)"
   ]
  },
  {
   "cell_type": "code",
   "execution_count": 30,
   "id": "7f1d770d",
   "metadata": {},
   "outputs": [],
   "source": [
    "df_new = df[0:5000]"
   ]
  },
  {
   "cell_type": "code",
   "execution_count": 31,
   "id": "f3b9dcfc",
   "metadata": {},
   "outputs": [
    {
     "data": {
      "text/plain": [
       "(5000, 3)"
      ]
     },
     "execution_count": 31,
     "metadata": {},
     "output_type": "execute_result"
    }
   ],
   "source": [
    "df_new.shape"
   ]
  },
  {
   "cell_type": "markdown",
   "id": "ff3ab153",
   "metadata": {},
   "source": [
    "### Feature Analysis"
   ]
  },
  {
   "cell_type": "code",
   "execution_count": null,
   "id": "e0716e3d",
   "metadata": {},
   "outputs": [],
   "source": []
  },
  {
   "cell_type": "code",
   "execution_count": null,
   "id": "a3d68fcf",
   "metadata": {},
   "outputs": [],
   "source": []
  },
  {
   "cell_type": "code",
   "execution_count": null,
   "id": "e44842f7",
   "metadata": {},
   "outputs": [],
   "source": []
  },
  {
   "cell_type": "code",
   "execution_count": null,
   "id": "75d8b3e0",
   "metadata": {},
   "outputs": [],
   "source": []
  },
  {
   "cell_type": "code",
   "execution_count": null,
   "id": "c1760968",
   "metadata": {},
   "outputs": [],
   "source": []
  },
  {
   "cell_type": "code",
   "execution_count": null,
   "id": "26aa1633",
   "metadata": {},
   "outputs": [],
   "source": []
  },
  {
   "cell_type": "code",
   "execution_count": null,
   "id": "231bf1a2",
   "metadata": {},
   "outputs": [],
   "source": []
  },
  {
   "cell_type": "code",
   "execution_count": null,
   "id": "31354ec4",
   "metadata": {},
   "outputs": [],
   "source": []
  },
  {
   "cell_type": "code",
   "execution_count": null,
   "id": "3382304a",
   "metadata": {},
   "outputs": [],
   "source": []
  },
  {
   "cell_type": "code",
   "execution_count": null,
   "id": "354429e5",
   "metadata": {},
   "outputs": [],
   "source": []
  },
  {
   "cell_type": "code",
   "execution_count": null,
   "id": "bd553cd8",
   "metadata": {},
   "outputs": [],
   "source": []
  },
  {
   "cell_type": "code",
   "execution_count": null,
   "id": "8f6d814e",
   "metadata": {},
   "outputs": [],
   "source": []
  },
  {
   "cell_type": "code",
   "execution_count": null,
   "id": "a5b67c19",
   "metadata": {},
   "outputs": [],
   "source": []
  },
  {
   "cell_type": "code",
   "execution_count": null,
   "id": "cac7c0bb",
   "metadata": {},
   "outputs": [],
   "source": []
  },
  {
   "cell_type": "code",
   "execution_count": 32,
   "id": "e87c3d14",
   "metadata": {},
   "outputs": [],
   "source": [
    "X = np.array(df_new['Clean_Text'])\n",
    "y = np.array(df_new['label'])"
   ]
  },
  {
   "cell_type": "code",
   "execution_count": 33,
   "id": "2d5814a2",
   "metadata": {},
   "outputs": [
    {
     "data": {
      "text/plain": [
       "\"thanks #lyft credit can't use cause offer wheelchair vans pdx. #disapointed #getthanked\""
      ]
     },
     "execution_count": 33,
     "metadata": {},
     "output_type": "execute_result"
    }
   ],
   "source": [
    "X[1]"
   ]
  },
  {
   "cell_type": "code",
   "execution_count": 34,
   "id": "1dde6a3b",
   "metadata": {},
   "outputs": [
    {
     "data": {
      "text/plain": [
       "array(['father dysfunctional selfish drags kids dysfunction. #run',\n",
       "       \"thanks #lyft credit can't use cause offer wheelchair vans pdx. #disapointed #getthanked\",\n",
       "       'bihday majesty', ...,\n",
       "       '3 apps help &amp; #healthy ð\\x9f\\x99\\x8cð\\x9f\\x8f½ð\\x9f\\x93±ð\\x9f\\x92\\x96 #blogginggals',\n",
       "       '#bestsellers #top10 #sales \"never bed #dream wakeup #hope\"',\n",
       "       'reaction volatile situation thought, punch youð\\x9f\\x98 ð\\x9f\\x98 #stupiditysucks #quietpeoplearealwaysthoughtweak'],\n",
       "      dtype=object)"
      ]
     },
     "execution_count": 34,
     "metadata": {},
     "output_type": "execute_result"
    }
   ],
   "source": [
    "X"
   ]
  },
  {
   "cell_type": "markdown",
   "id": "f089553b",
   "metadata": {},
   "source": [
    "#### Splite data text and labels into train & test data"
   ]
  },
  {
   "cell_type": "code",
   "execution_count": 35,
   "id": "636cbcd6",
   "metadata": {},
   "outputs": [],
   "source": [
    "X_train, X_test, y_train, y_test = train_test_split(X, y, test_size=0.3)"
   ]
  },
  {
   "cell_type": "code",
   "execution_count": 36,
   "id": "7921390c",
   "metadata": {},
   "outputs": [
    {
     "data": {
      "text/plain": [
       "1500"
      ]
     },
     "execution_count": 36,
     "metadata": {},
     "output_type": "execute_result"
    }
   ],
   "source": [
    "len(X_test)"
   ]
  },
  {
   "cell_type": "markdown",
   "id": "9cc219ab",
   "metadata": {},
   "source": [
    "#### Get the unigram features from data"
   ]
  },
  {
   "cell_type": "code",
   "execution_count": 37,
   "id": "38518656",
   "metadata": {},
   "outputs": [],
   "source": [
    "countVector = CountVectorizer(input='content',decode_error='ignore',analyzer='word', binary=False, ngram_range=(1,1)).fit(X)\n",
    "X_train_vectorized = countVector.transform(X_train).toarray() #feature matrix is generated\n",
    "X_test_vectorized = countVector.transform(X_test).toarray()"
   ]
  },
  {
   "cell_type": "code",
   "execution_count": 38,
   "id": "6065ce62",
   "metadata": {},
   "outputs": [
    {
     "data": {
      "text/plain": [
       "array([0, 0, 0, ..., 0, 0, 0], dtype=int64)"
      ]
     },
     "execution_count": 38,
     "metadata": {},
     "output_type": "execute_result"
    }
   ],
   "source": [
    "X_train_vectorized[0] "
   ]
  },
  {
   "cell_type": "markdown",
   "id": "a8135c43",
   "metadata": {},
   "source": [
    "### Train Naive Bayes Model with Unigram Features"
   ]
  },
  {
   "cell_type": "code",
   "execution_count": 39,
   "id": "2829f209",
   "metadata": {},
   "outputs": [],
   "source": [
    "precisions = {}"
   ]
  },
  {
   "cell_type": "code",
   "execution_count": 40,
   "id": "559f7f55",
   "metadata": {},
   "outputs": [],
   "source": [
    "naivebayes = GaussianNB()\n",
    "naivebayes.fit(X_train_vectorized, y_train)\n",
    "testPredictionsnaivebayes = naivebayes.predict(X_test_vectorized)"
   ]
  },
  {
   "cell_type": "markdown",
   "id": "bbe4ab64",
   "metadata": {},
   "source": [
    "#### Print the precision recall and fscore for naive bayes Unigram"
   ]
  },
  {
   "cell_type": "code",
   "execution_count": 41,
   "id": "76eae004",
   "metadata": {},
   "outputs": [
    {
     "name": "stdout",
     "output_type": "stream",
     "text": [
      "Macro: (0.6744897179114746, 0.6881063869638508, 0.6809638137261264, None)\n"
     ]
    }
   ],
   "source": [
    "print (\"Macro:\",precision_recall_fscore_support(y_test,testPredictionsnaivebayes, average='macro'))\n",
    "a = precision_recall_fscore_support(y_test,testPredictionsnaivebayes, average='macro')"
   ]
  },
  {
   "cell_type": "code",
   "execution_count": 42,
   "id": "efd89080",
   "metadata": {},
   "outputs": [],
   "source": [
    "score = precision_recall_fscore_support(y_test,testPredictionsnaivebayes, average='macro')[0]\n",
    "precisions['NB Unigram'] = score"
   ]
  },
  {
   "cell_type": "markdown",
   "id": "ad3f3142",
   "metadata": {},
   "source": [
    "### Train SVM model with Unigram"
   ]
  },
  {
   "cell_type": "code",
   "execution_count": 43,
   "id": "4099b15f",
   "metadata": {},
   "outputs": [],
   "source": [
    "svm = SVC(kernel='linear')\n",
    "svm.fit(X_train_vectorized, y_train)\n",
    "testPredictionsSVM = svm.predict(X_test_vectorized)"
   ]
  },
  {
   "cell_type": "markdown",
   "id": "fcbc6336",
   "metadata": {},
   "source": [
    "#### Print the precision recall and fscore for SVM (Unigram)"
   ]
  },
  {
   "cell_type": "code",
   "execution_count": 44,
   "id": "113ff23c",
   "metadata": {},
   "outputs": [
    {
     "name": "stdout",
     "output_type": "stream",
     "text": [
      "Macro: (0.8446052217678515, 0.7051882374976588, 0.7543859649122807, None)\n"
     ]
    }
   ],
   "source": [
    "score = precision_recall_fscore_support(y_test,testPredictionsSVM, average='macro')[0]\n",
    "precisions['SVM Unigram'] = score\n",
    "print (\"Macro:\",precision_recall_fscore_support(y_test,testPredictionsSVM, average='macro'))"
   ]
  },
  {
   "cell_type": "markdown",
   "id": "52aa0fc0",
   "metadata": {},
   "source": [
    "### Get the bigram features from data"
   ]
  },
  {
   "cell_type": "code",
   "execution_count": 45,
   "id": "7a67e365",
   "metadata": {},
   "outputs": [],
   "source": [
    "countVector = CountVectorizer(input='content',decode_error='ignore',analyzer='word', binary=False, ngram_range=(2,2)).fit(X)\n",
    "X_train_vectorized_bigram = countVector.transform(X_train).toarray()\n",
    "X_test_vectorized_bigram = countVector.transform(X_test).toarray()"
   ]
  },
  {
   "cell_type": "markdown",
   "id": "3841c507",
   "metadata": {},
   "source": [
    "#### Train Naive Bayes Model with bigram features"
   ]
  },
  {
   "cell_type": "code",
   "execution_count": 46,
   "id": "4beb4735",
   "metadata": {},
   "outputs": [],
   "source": [
    "naivebayes = GaussianNB()\n",
    "naivebayes.fit(X_train_vectorized_bigram, y_train)\n",
    "testPredictionsnaivebayesbigram = naivebayes.predict(X_test_vectorized_bigram)"
   ]
  },
  {
   "cell_type": "markdown",
   "id": "29e28e16",
   "metadata": {},
   "source": [
    "#### Print the precision recall and fscore for naive bayes (Bigram)"
   ]
  },
  {
   "cell_type": "code",
   "execution_count": 47,
   "id": "df2bb812",
   "metadata": {},
   "outputs": [
    {
     "name": "stdout",
     "output_type": "stream",
     "text": [
      "Macro: (0.5441207499397155, 0.6754635699569207, 0.37477471864862344, None)\n"
     ]
    }
   ],
   "source": [
    "score = precision_recall_fscore_support(y_test,testPredictionsnaivebayesbigram, average='macro')[0]\n",
    "precisions['NB Bigram'] = score\n",
    "print (\"Macro:\",precision_recall_fscore_support(y_test,testPredictionsnaivebayesbigram, average='macro'))"
   ]
  },
  {
   "cell_type": "markdown",
   "id": "dad50d50",
   "metadata": {},
   "source": [
    "### Train SVM model with Bigram"
   ]
  },
  {
   "cell_type": "code",
   "execution_count": 48,
   "id": "38207479",
   "metadata": {},
   "outputs": [],
   "source": [
    "svm = SVC(kernel='linear')\n",
    "svm.fit(X_train_vectorized_bigram, y_train)\n",
    "testPredictionsSVMBigram = svm.predict(X_test_vectorized_bigram)"
   ]
  },
  {
   "cell_type": "markdown",
   "id": "548cbfdd",
   "metadata": {},
   "source": [
    "#### Print the precision recall and fscore for SVM (Bigram)"
   ]
  },
  {
   "cell_type": "code",
   "execution_count": 49,
   "id": "836ffa59",
   "metadata": {},
   "outputs": [
    {
     "name": "stdout",
     "output_type": "stream",
     "text": [
      "Macro: (0.9708445040214477, 0.5421052631578948, 0.5626543696023003, None)\n"
     ]
    }
   ],
   "source": [
    "score = precision_recall_fscore_support(y_test,testPredictionsSVMBigram, average='macro')[0]\n",
    "precisions['SVM Bigram'] = score\n",
    "print (\"Macro:\",precision_recall_fscore_support(y_test,testPredictionsSVMBigram, average='macro'))"
   ]
  },
  {
   "cell_type": "markdown",
   "id": "db6cbcf7",
   "metadata": {},
   "source": [
    "### Get the trigram features from data"
   ]
  },
  {
   "cell_type": "code",
   "execution_count": 50,
   "id": "7549701f",
   "metadata": {},
   "outputs": [],
   "source": [
    "countVector = CountVectorizer(input='content',decode_error='ignore',analyzer='word', binary=False, ngram_range=(3,3)).fit(X)\n",
    "X_train_vectorized_trigram = countVector.transform(X_train).toarray()\n",
    "X_test_vectorized_trigram = countVector.transform(X_test).toarray()"
   ]
  },
  {
   "cell_type": "markdown",
   "id": "4dd35c7a",
   "metadata": {},
   "source": [
    "#### Train Naive Bayes Model with trigram features"
   ]
  },
  {
   "cell_type": "code",
   "execution_count": 51,
   "id": "c81cd8e3",
   "metadata": {},
   "outputs": [],
   "source": [
    "naivebayes = GaussianNB()\n",
    "naivebayes.fit(X_train_vectorized_trigram, y_train)\n",
    "testPredictionsnaivebayestrigram = naivebayes.predict(X_test_vectorized_trigram)"
   ]
  },
  {
   "cell_type": "markdown",
   "id": "d42e7795",
   "metadata": {},
   "source": [
    "#### Print the precision recall and fscore for naive bayes (trigram)"
   ]
  },
  {
   "cell_type": "code",
   "execution_count": 52,
   "id": "33041f11",
   "metadata": {},
   "outputs": [
    {
     "name": "stdout",
     "output_type": "stream",
     "text": [
      "Macro: (0.5359304084720121, 0.5633451957295373, 0.17948777389973122, None)\n"
     ]
    }
   ],
   "source": [
    "score = precision_recall_fscore_support(y_test,testPredictionsnaivebayestrigram, average='macro')[0]\n",
    "precisions['NB Trigram'] = score\n",
    "print (\"Macro:\",precision_recall_fscore_support(y_test,testPredictionsnaivebayestrigram, average='macro'))"
   ]
  },
  {
   "cell_type": "markdown",
   "id": "52c144ad",
   "metadata": {},
   "source": [
    "### Train SVM model with trigram"
   ]
  },
  {
   "cell_type": "code",
   "execution_count": 53,
   "id": "f1853e6e",
   "metadata": {},
   "outputs": [],
   "source": [
    "svm = SVC(kernel='linear')\n",
    "svm.fit(X_train_vectorized_trigram, y_train)\n",
    "testPredictionsSVMTrigram = svm.predict(X_test_vectorized_trigram)"
   ]
  },
  {
   "cell_type": "markdown",
   "id": "a26cac17",
   "metadata": {},
   "source": [
    "#### Print the precision recall and fscore for SVM (trigram)"
   ]
  },
  {
   "cell_type": "code",
   "execution_count": 54,
   "id": "c901b3ee",
   "metadata": {},
   "outputs": [
    {
     "name": "stdout",
     "output_type": "stream",
     "text": [
      "Macro: (0.97052913596785, 0.5368421052631579, 0.55344456623229, None)\n"
     ]
    }
   ],
   "source": [
    "score = precision_recall_fscore_support(y_test,testPredictionsSVMTrigram, average='macro')[0]\n",
    "precisions['SVM Trigram'] = score\n",
    "print (\"Macro:\",precision_recall_fscore_support(y_test,testPredictionsSVMTrigram, average='macro'))"
   ]
  },
  {
   "cell_type": "code",
   "execution_count": 55,
   "id": "1662c82d",
   "metadata": {},
   "outputs": [
    {
     "data": {
      "text/html": [
       "<div>\n",
       "<style scoped>\n",
       "    .dataframe tbody tr th:only-of-type {\n",
       "        vertical-align: middle;\n",
       "    }\n",
       "\n",
       "    .dataframe tbody tr th {\n",
       "        vertical-align: top;\n",
       "    }\n",
       "\n",
       "    .dataframe thead th {\n",
       "        text-align: right;\n",
       "    }\n",
       "</style>\n",
       "<table border=\"1\" class=\"dataframe\">\n",
       "  <thead>\n",
       "    <tr style=\"text-align: right;\">\n",
       "      <th></th>\n",
       "      <th>Feature</th>\n",
       "      <th>Naive Bayes</th>\n",
       "      <th>SVM</th>\n",
       "    </tr>\n",
       "  </thead>\n",
       "  <tbody>\n",
       "    <tr>\n",
       "      <th>0</th>\n",
       "      <td>Unigram</td>\n",
       "      <td>0.65</td>\n",
       "      <td>0.69</td>\n",
       "    </tr>\n",
       "    <tr>\n",
       "      <th>1</th>\n",
       "      <td>Bigram</td>\n",
       "      <td>0.39</td>\n",
       "      <td>0.56</td>\n",
       "    </tr>\n",
       "    <tr>\n",
       "      <th>2</th>\n",
       "      <td>Trigram</td>\n",
       "      <td>0.21</td>\n",
       "      <td>0.56</td>\n",
       "    </tr>\n",
       "  </tbody>\n",
       "</table>\n",
       "</div>"
      ],
      "text/plain": [
       "   Feature  Naive Bayes   SVM\n",
       "0  Unigram         0.65  0.69\n",
       "1   Bigram         0.39  0.56\n",
       "2  Trigram         0.21  0.56"
      ]
     },
     "execution_count": 55,
     "metadata": {},
     "output_type": "execute_result"
    }
   ],
   "source": [
    "scores = {\n",
    "        'Feature':['Unigram','Bigram','Trigram'],\n",
    "    \"Naive Bayes\": [0.65,0.39,0.21],\n",
    "    \"SVM\":[0.69,0.56,0.56]\n",
    "}\n",
    "\n",
    "df_score = pd.DataFrame(scores)\n",
    "df_score"
   ]
  },
  {
   "cell_type": "code",
   "execution_count": null,
   "id": "05b842ea",
   "metadata": {},
   "outputs": [],
   "source": []
  },
  {
   "cell_type": "code",
   "execution_count": null,
   "id": "abe04d37",
   "metadata": {},
   "outputs": [],
   "source": []
  },
  {
   "cell_type": "code",
   "execution_count": 56,
   "id": "bf3a41a5",
   "metadata": {},
   "outputs": [
    {
     "data": {
      "image/png": "[encoded data removed]",
      "text/plain": [
       "<Figure size 432x288 with 1 Axes>"
      ]
     },
     "metadata": {
      "needs_background": "light"
     },
     "output_type": "display_data"
    }
   ],
   "source": [
    "from matplotlib import pyplot as plt\n",
    "Feature = ['Unigram','Bigram','Trigram']\n",
    "NaiveBayes = [0.65,0.39,0.21]\n",
    "SVM = [0.69,0.56,0.56]\n",
    "\n",
    "fig, ax = plt.subplots()\n",
    "index = np.arange(len(Feature))\n",
    "ax.bar(x=index+0.3,height=SVM,width=0.3,label='SVM')\n",
    "ax.bar(x=index,height=NaiveBayes,width=0.3, label='Naive Bayes')\n",
    "\n",
    "\n",
    "ax.set_xlabel('Techniques')\n",
    "ax.set_ylabel('F1 Score')\n",
    "\n",
    "plt.legend()\n",
    "\n",
    "plt.xticks(ticks=index+0.15,labels=Feature)\n",
    "\n",
    "\n",
    "plt.savefig(\"fig1.png\")\n",
    "plt.show()"
   ]
  },
  {
   "cell_type": "code",
   "execution_count": null,
   "id": "95815082",
   "metadata": {},
   "outputs": [],
   "source": []
  },
  {
   "cell_type": "markdown",
   "id": "0b8c2255",
   "metadata": {},
   "source": [
    "### Get the TF-IDF features from data"
   ]
  },
  {
   "cell_type": "code",
   "execution_count": 57,
   "id": "06fdc86e",
   "metadata": {},
   "outputs": [],
   "source": [
    "vectorizer = TfidfVectorizer()\n",
    "X_Train = vectorizer.fit_transform(X).toarray()"
   ]
  },
  {
   "cell_type": "code",
   "execution_count": 58,
   "id": "b8854d02",
   "metadata": {},
   "outputs": [],
   "source": [
    "X_train_tfidf, X_test_tfidf, y_train_tfidf, y_test_tfidf = train_test_split(X_Train, y, test_size=0.3)"
   ]
  },
  {
   "cell_type": "code",
   "execution_count": 59,
   "id": "c2c4c5dc",
   "metadata": {},
   "outputs": [
    {
     "data": {
      "text/plain": [
       "TfidfVectorizer()"
      ]
     },
     "execution_count": 59,
     "metadata": {},
     "output_type": "execute_result"
    }
   ],
   "source": [
    "vectorizer"
   ]
  },
  {
   "cell_type": "markdown",
   "id": "3c85c89c",
   "metadata": {},
   "source": [
    "### Train Naive Bayes Model with TF-IDF features"
   ]
  },
  {
   "cell_type": "code",
   "execution_count": 60,
   "id": "82e232ba",
   "metadata": {},
   "outputs": [],
   "source": [
    "naivebayes = GaussianNB()\n",
    "naivebayes.fit(X_train_tfidf, y_train_tfidf)\n",
    "testPredictionsnaivebayestfidf = naivebayes.predict(X_test_tfidf)"
   ]
  },
  {
   "cell_type": "code",
   "execution_count": 61,
   "id": "57f12e01",
   "metadata": {},
   "outputs": [
    {
     "name": "stdout",
     "output_type": "stream",
     "text": [
      "Macro: (0.48563834347937923, 0.48368608353624276, 0.48455777160649666, None)\n"
     ]
    }
   ],
   "source": [
    "score = precision_recall_fscore_support(y_test,testPredictionsnaivebayestfidf, average='macro')[0]\n",
    "precisions['NB TF-IDF'] = score\n",
    "print (\"Macro:\",precision_recall_fscore_support(y_test,testPredictionsnaivebayestfidf, average='macro'))"
   ]
  },
  {
   "cell_type": "markdown",
   "id": "52d76db7",
   "metadata": {},
   "source": [
    "### Train SVM model with TF-IDF"
   ]
  },
  {
   "cell_type": "code",
   "execution_count": 62,
   "id": "835b5eb6",
   "metadata": {},
   "outputs": [],
   "source": [
    "svm = SVC(kernel='linear')\n",
    "svm.fit(X_train_tfidf, y_train_tfidf)\n",
    "testPredictionsSVMTfidf = svm.predict(X_test_tfidf)"
   ]
  },
  {
   "cell_type": "code",
   "execution_count": 63,
   "id": "7280c70d",
   "metadata": {},
   "outputs": [
    {
     "name": "stdout",
     "output_type": "stream",
     "text": [
      "Macro: (0.4920312952767314, 0.49814572017231695, 0.4888564732890143, None)\n"
     ]
    }
   ],
   "source": [
    "score = precision_recall_fscore_support(y_test,testPredictionsSVMTfidf, average='macro')[0]\n",
    "precisions['SVM TF-IDF'] = score\n",
    "print (\"Macro:\",precision_recall_fscore_support(y_test,testPredictionsSVMTfidf, average='macro'))"
   ]
  },
  {
   "cell_type": "markdown",
   "id": "573b25ce",
   "metadata": {},
   "source": [
    "### Create Word2Vec Embeddings"
   ]
  },
  {
   "cell_type": "code",
   "execution_count": 64,
   "id": "37584b6d",
   "metadata": {},
   "outputs": [
    {
     "data": {
      "text/html": [
       "<div>\n",
       "<style scoped>\n",
       "    .dataframe tbody tr th:only-of-type {\n",
       "        vertical-align: middle;\n",
       "    }\n",
       "\n",
       "    .dataframe tbody tr th {\n",
       "        vertical-align: top;\n",
       "    }\n",
       "\n",
       "    .dataframe thead th {\n",
       "        text-align: right;\n",
       "    }\n",
       "</style>\n",
       "<table border=\"1\" class=\"dataframe\">\n",
       "  <thead>\n",
       "    <tr style=\"text-align: right;\">\n",
       "      <th></th>\n",
       "      <th>id</th>\n",
       "      <th>label</th>\n",
       "      <th>Clean_Text</th>\n",
       "    </tr>\n",
       "  </thead>\n",
       "  <tbody>\n",
       "    <tr>\n",
       "      <th>0</th>\n",
       "      <td>1</td>\n",
       "      <td>0</td>\n",
       "      <td>father dysfunctional selfish drags kids dysfun...</td>\n",
       "    </tr>\n",
       "    <tr>\n",
       "      <th>1</th>\n",
       "      <td>2</td>\n",
       "      <td>0</td>\n",
       "      <td>thanks #lyft credit can't use cause offer whee...</td>\n",
       "    </tr>\n",
       "    <tr>\n",
       "      <th>2</th>\n",
       "      <td>3</td>\n",
       "      <td>0</td>\n",
       "      <td>bihday majesty</td>\n",
       "    </tr>\n",
       "    <tr>\n",
       "      <th>3</th>\n",
       "      <td>4</td>\n",
       "      <td>0</td>\n",
       "      <td>#model love u u time urð±!!! ðððð...</td>\n",
       "    </tr>\n",
       "    <tr>\n",
       "      <th>4</th>\n",
       "      <td>5</td>\n",
       "      <td>0</td>\n",
       "      <td>factsguide: society #motivation</td>\n",
       "    </tr>\n",
       "    <tr>\n",
       "      <th>...</th>\n",
       "      <td>...</td>\n",
       "      <td>...</td>\n",
       "      <td>...</td>\n",
       "    </tr>\n",
       "    <tr>\n",
       "      <th>4995</th>\n",
       "      <td>4996</td>\n",
       "      <td>0</td>\n",
       "      <td>attack lgbt community, america well. isolated/...</td>\n",
       "    </tr>\n",
       "    <tr>\n",
       "      <th>4996</th>\n",
       "      <td>4997</td>\n",
       "      <td>0</td>\n",
       "      <td>looking forward catching there? designer lucky...</td>\n",
       "    </tr>\n",
       "    <tr>\n",
       "      <th>4997</th>\n",
       "      <td>4998</td>\n",
       "      <td>0</td>\n",
       "      <td>3 apps help &amp;amp; #healthy ðð½ð±ð #b...</td>\n",
       "    </tr>\n",
       "    <tr>\n",
       "      <th>4998</th>\n",
       "      <td>4999</td>\n",
       "      <td>0</td>\n",
       "      <td>#bestsellers #top10 #sales \"never bed #dream w...</td>\n",
       "    </tr>\n",
       "    <tr>\n",
       "      <th>4999</th>\n",
       "      <td>5000</td>\n",
       "      <td>0</td>\n",
       "      <td>reaction volatile situation thought, punch you...</td>\n",
       "    </tr>\n",
       "  </tbody>\n",
       "</table>\n",
       "<p>5000 rows × 3 columns</p>\n",
       "</div>"
      ],
      "text/plain": [
       "        id  label                                         Clean_Text\n",
       "0        1      0  father dysfunctional selfish drags kids dysfun...\n",
       "1        2      0  thanks #lyft credit can't use cause offer whee...\n",
       "2        3      0                                     bihday majesty\n",
       "3        4      0  #model love u u time urð±!!! ðððð...\n",
       "4        5      0                    factsguide: society #motivation\n",
       "...    ...    ...                                                ...\n",
       "4995  4996      0  attack lgbt community, america well. isolated/...\n",
       "4996  4997      0  looking forward catching there? designer lucky...\n",
       "4997  4998      0  3 apps help &amp; #healthy ðð½ð±ð #b...\n",
       "4998  4999      0  #bestsellers #top10 #sales \"never bed #dream w...\n",
       "4999  5000      0  reaction volatile situation thought, punch you...\n",
       "\n",
       "[5000 rows x 3 columns]"
      ]
     },
     "execution_count": 64,
     "metadata": {},
     "output_type": "execute_result"
    }
   ],
   "source": [
    "df_new"
   ]
  },
  {
   "cell_type": "code",
   "execution_count": 65,
   "id": "22650e34",
   "metadata": {},
   "outputs": [],
   "source": [
    "df_w2v = df_new.copy() \n",
    "X_train_df = pd.DataFrame(X_train, columns = ['Clean_Text'])\n",
    "X_test_df = pd.DataFrame(X_test, columns = ['Clean_Text'])\n",
    "\n",
    "def tokenizer(str):\n",
    "    nlp = spacy.blank('ur')\n",
    "    doc = nlp.tokenizer(str)\n",
    "    return [i.text for i in doc]\n",
    "\n",
    "df_w2v[\"tokens\"] = df_w2v[\"Clean_Text\"].apply(tokenizer)\n",
    "X_train_df[\"tokens\"] = X_train_df[\"Clean_Text\"].apply(tokenizer)\n",
    "X_test_df[\"tokens\"] = X_test_df[\"Clean_Text\"].apply(tokenizer)"
   ]
  },
  {
   "cell_type": "code",
   "execution_count": 66,
   "id": "854cfcb8",
   "metadata": {},
   "outputs": [],
   "source": [
    "model_word2vec = gensim.models.Word2Vec(sentences=df_w2v[\"tokens\"], vector_size=300, sg=1, window=5, workers=10, min_count = 1)"
   ]
  },
  {
   "cell_type": "code",
   "execution_count": 67,
   "id": "5347a094",
   "metadata": {},
   "outputs": [],
   "source": [
    "def get_sent_vec(size,sent,model):\n",
    "    vec = np.zeros(size).reshape(1,size)\n",
    "    for word in sent:\n",
    "        try:\n",
    "            vec += model.wv[word].reshape(1,size)\n",
    "        except:\n",
    "            continue\n",
    "    return vec"
   ]
  },
  {
   "cell_type": "code",
   "execution_count": 68,
   "id": "a2098f74",
   "metadata": {},
   "outputs": [],
   "source": [
    "def get_train_test_vec(X_train, X_test, model_word2vec):\n",
    "    train_vec = np.concatenate([get_sent_vec(300, sent, model_word2vec) for sent in X_train_df['tokens']])\n",
    "    test_vec = np.concatenate([get_sent_vec(300, sent, model_word2vec) for sent in X_test_df['tokens']])\n",
    "    return train_vec,test_vec"
   ]
  },
  {
   "cell_type": "code",
   "execution_count": 69,
   "id": "2e160e31",
   "metadata": {},
   "outputs": [],
   "source": [
    "train_vec,test_vec = get_train_test_vec(X_train,X_test,model_word2vec)"
   ]
  },
  {
   "cell_type": "markdown",
   "id": "7648b948",
   "metadata": {},
   "source": [
    "### Train Naive Bayes Model with Word2Vec Embeddings"
   ]
  },
  {
   "cell_type": "code",
   "execution_count": 70,
   "id": "2d714695",
   "metadata": {},
   "outputs": [],
   "source": [
    "naivebayes = GaussianNB()\n",
    "naivebayes.fit(train_vec, y_train)\n",
    "testPredictionsnaivebayesWord2Vec = naivebayes.predict(test_vec)"
   ]
  },
  {
   "cell_type": "code",
   "execution_count": 71,
   "id": "f3730bbb",
   "metadata": {},
   "outputs": [
    {
     "name": "stdout",
     "output_type": "stream",
     "text": [
      "Macro: (0.5145, 0.5543172878816257, 0.31758530183727035, None)\n"
     ]
    }
   ],
   "source": [
    "score = precision_recall_fscore_support(y_test,testPredictionsnaivebayesWord2Vec, average='macro')[0]\n",
    "precisions['NB W2V'] = score\n",
    "print (\"Macro:\",precision_recall_fscore_support(y_test,testPredictionsnaivebayesWord2Vec, average='macro'))"
   ]
  },
  {
   "cell_type": "markdown",
   "id": "61e5c1fe",
   "metadata": {},
   "source": [
    "### Train SVM model with Word2Vec Embeddings"
   ]
  },
  {
   "cell_type": "code",
   "execution_count": 72,
   "id": "ed33061b",
   "metadata": {},
   "outputs": [],
   "source": [
    "svm = SVC(kernel='linear')\n",
    "svm.fit(train_vec, y_train)\n",
    "testPredictionsSVMWord2Vec = svm.predict(test_vec)"
   ]
  },
  {
   "cell_type": "code",
   "execution_count": 73,
   "id": "20a301ad",
   "metadata": {},
   "outputs": [
    {
     "name": "stdout",
     "output_type": "stream",
     "text": [
      "Macro: (0.4683333333333333, 0.5, 0.4836488812392427, None)\n"
     ]
    },
    {
     "name": "stderr",
     "output_type": "stream",
     "text": [
      "C:\\Users\\Pavilion14x360\\anaconda3\\lib\\site-packages\\sklearn\\metrics\\_classification.py:1248: UndefinedMetricWarning: Precision and F-score are ill-defined and being set to 0.0 in labels with no predicted samples. Use `zero_division` parameter to control this behavior.\n",
      "  _warn_prf(average, modifier, msg_start, len(result))\n",
      "C:\\Users\\Pavilion14x360\\anaconda3\\lib\\site-packages\\sklearn\\metrics\\_classification.py:1248: UndefinedMetricWarning: Precision and F-score are ill-defined and being set to 0.0 in labels with no predicted samples. Use `zero_division` parameter to control this behavior.\n",
      "  _warn_prf(average, modifier, msg_start, len(result))\n"
     ]
    }
   ],
   "source": [
    "score = precision_recall_fscore_support(y_test,testPredictionsSVMWord2Vec, average='macro')[0]\n",
    "precisions['SVM W2V'] = score\n",
    "print (\"Macro:\",precision_recall_fscore_support(y_test,testPredictionsSVMWord2Vec, average='macro'))"
   ]
  },
  {
   "cell_type": "code",
   "execution_count": 74,
   "id": "b3196696",
   "metadata": {},
   "outputs": [
    {
     "data": {
      "text/html": [
       "<div>\n",
       "<style scoped>\n",
       "    .dataframe tbody tr th:only-of-type {\n",
       "        vertical-align: middle;\n",
       "    }\n",
       "\n",
       "    .dataframe tbody tr th {\n",
       "        vertical-align: top;\n",
       "    }\n",
       "\n",
       "    .dataframe thead th {\n",
       "        text-align: right;\n",
       "    }\n",
       "</style>\n",
       "<table border=\"1\" class=\"dataframe\">\n",
       "  <thead>\n",
       "    <tr style=\"text-align: right;\">\n",
       "      <th></th>\n",
       "      <th>Algorithm</th>\n",
       "      <th>Precision</th>\n",
       "    </tr>\n",
       "  </thead>\n",
       "  <tbody>\n",
       "    <tr>\n",
       "      <th>0</th>\n",
       "      <td>NB Unigram</td>\n",
       "      <td>0.674490</td>\n",
       "    </tr>\n",
       "    <tr>\n",
       "      <th>1</th>\n",
       "      <td>SVM Unigram</td>\n",
       "      <td>0.844605</td>\n",
       "    </tr>\n",
       "    <tr>\n",
       "      <th>2</th>\n",
       "      <td>NB Bigram</td>\n",
       "      <td>0.544121</td>\n",
       "    </tr>\n",
       "    <tr>\n",
       "      <th>3</th>\n",
       "      <td>SVM Bigram</td>\n",
       "      <td>0.970845</td>\n",
       "    </tr>\n",
       "    <tr>\n",
       "      <th>4</th>\n",
       "      <td>NB Trigram</td>\n",
       "      <td>0.535930</td>\n",
       "    </tr>\n",
       "    <tr>\n",
       "      <th>5</th>\n",
       "      <td>SVM Trigram</td>\n",
       "      <td>0.970529</td>\n",
       "    </tr>\n",
       "    <tr>\n",
       "      <th>6</th>\n",
       "      <td>NB TF-IDF</td>\n",
       "      <td>0.485638</td>\n",
       "    </tr>\n",
       "    <tr>\n",
       "      <th>7</th>\n",
       "      <td>SVM TF-IDF</td>\n",
       "      <td>0.492031</td>\n",
       "    </tr>\n",
       "    <tr>\n",
       "      <th>8</th>\n",
       "      <td>NB W2V</td>\n",
       "      <td>0.514500</td>\n",
       "    </tr>\n",
       "    <tr>\n",
       "      <th>9</th>\n",
       "      <td>SVM W2V</td>\n",
       "      <td>0.468333</td>\n",
       "    </tr>\n",
       "  </tbody>\n",
       "</table>\n",
       "</div>"
      ],
      "text/plain": [
       "     Algorithm  Precision\n",
       "0   NB Unigram   0.674490\n",
       "1  SVM Unigram   0.844605\n",
       "2    NB Bigram   0.544121\n",
       "3   SVM Bigram   0.970845\n",
       "4   NB Trigram   0.535930\n",
       "5  SVM Trigram   0.970529\n",
       "6    NB TF-IDF   0.485638\n",
       "7   SVM TF-IDF   0.492031\n",
       "8       NB W2V   0.514500\n",
       "9      SVM W2V   0.468333"
      ]
     },
     "execution_count": 74,
     "metadata": {},
     "output_type": "execute_result"
    }
   ],
   "source": [
    "df_precision = pd.DataFrame(precisions.items(), columns=['Algorithm', 'Precision'])\n",
    "df_precision"
   ]
  },
  {
   "cell_type": "markdown",
   "id": "1ca9ab0e",
   "metadata": {},
   "source": [
    "### Comparison of Precision of different algorithms"
   ]
  },
  {
   "cell_type": "code",
   "execution_count": 75,
   "id": "7a610aef",
   "metadata": {},
   "outputs": [
    {
     "data": {
      "image/png": "[encoded data removed]",
      "text/plain": [
       "<Figure size 1040x400 with 1 Axes>"
      ]
     },
     "metadata": {
      "needs_background": "light"
     },
     "output_type": "display_data"
    }
   ],
   "source": [
    "import matplotlib.pyplot as plt\n",
    "from matplotlib.pyplot import figure\n",
    "\n",
    "figure(figsize=(13, 5), dpi=80)\n",
    "\n",
    "algorithm = list(precisions.keys())\n",
    "precision = list(precisions.values())\n",
    "\n",
    "plt.bar(range(len(precisions)), precision, tick_label=algorithm)\n",
    "plt.show()"
   ]
  },
  {
   "cell_type": "code",
   "execution_count": 76,
   "id": "4daf32d6",
   "metadata": {},
   "outputs": [
    {
     "data": {
      "image/png": "[encoded data removed]",
      "text/plain": [
       "<Figure size 432x288 with 1 Axes>"
      ]
     },
     "metadata": {
      "needs_background": "light"
     },
     "output_type": "display_data"
    }
   ],
   "source": [
    "from matplotlib import pyplot as plt\n",
    "Feature = ['Unigram','Bigram','Trigram','TF-IDF','Word2Vac']\n",
    "NaiveBayes = [0.65,0.39,0.21,0.51,0.32]\n",
    "SVM = [0.69,0.56,0.56,0.53,0.48]\n",
    "\n",
    "fig, ax = plt.subplots()\n",
    "index = np.arange(len(Feature))\n",
    "ax.bar(x=index+0.3,height=SVM,width=0.3,label='SVM')\n",
    "ax.bar(x=index,height=NaiveBayes,width=0.3, label='Naive Bayes')\n",
    "\n",
    "\n",
    "ax.set_xlabel('Techniques')\n",
    "ax.set_ylabel('F1 Score')\n",
    "\n",
    "plt.legend()\n",
    "\n",
    "plt.xticks(ticks=index+0.15,labels=Feature)\n",
    "\n",
    "\n",
    "plt.savefig(\"fig2.png\")\n",
    "plt.show()"
   ]
  },
  {
   "cell_type": "code",
   "execution_count": null,
   "id": "49eb721e",
   "metadata": {},
   "outputs": [],
   "source": []
  },
  {
   "cell_type": "code",
   "execution_count": null,
   "id": "9d20b346",
   "metadata": {},
   "outputs": [],
   "source": []
  }
 ],
 "metadata": {
  "kernelspec": {
   "display_name": "Python 3 (ipykernel)",
   "language": "python",
   "name": "python3"
  },
  "language_info": {
   "codemirror_mode": {
    "name": "ipython",
    "version": 3
   },
   "file_extension": ".py",
   "mimetype": "text/x-python",
   "name": "python",
   "nbconvert_exporter": "python",
   "pygments_lexer": "ipython3",
   "version": "3.9.7"
  }
 },
 "nbformat": 4,
 "nbformat_minor": 5
}
